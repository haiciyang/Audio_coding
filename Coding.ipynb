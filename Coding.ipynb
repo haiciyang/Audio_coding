{
 "cells": [
  {
   "cell_type": "code",
   "execution_count": 1,
   "metadata": {},
   "outputs": [
    {
     "name": "stderr",
     "output_type": "stream",
     "text": [
      "/media/sdb1/hy17/venv/lib/python3.6/site-packages/numba/errors.py:131: UserWarning: Insufficiently recent colorama version found. Numba requires colorama >= 0.3.9\n",
      "  warnings.warn(msg)\n"
     ]
    },
    {
     "name": "stdout",
     "output_type": "stream",
     "text": [
      "Torch 1.2.0 CUDA 10.0.130\n",
      "Device: cuda:0\n",
      "True\n"
     ]
    }
   ],
   "source": [
    "import os\n",
    "os.environ[\"CUDA_DEVICE_ORDER\"]=\"PCI_BUS_ID\" # see issue #152\n",
    "os.environ[\"CUDA_VISIBLE_DEVICES\"]=\"0\"\n",
    "\n",
    "# Importing the libraries \n",
    "import torch\n",
    "import torchvision\n",
    "import torchvision.transforms as transforms\n",
    "import torchvision.datasets as datasets\n",
    "import numpy as np\n",
    "import matplotlib.pyplot as plt\n",
    "import torch.nn as nn\n",
    "import matplotlib.cm as cm\n",
    "import pandas as pd\n",
    "import os\n",
    "import librosa\n",
    "import librosa.display\n",
    "import torch.nn.functional as F\n",
    "from torch.autograd import Variable\n",
    "import time\n",
    "from Models import Autoencoder\n",
    "from TestData import SingleMus\n",
    "import IPython.display as ipd\n",
    "\n",
    "# Checking the availability of CUDA on machine\n",
    "print(\"Torch\", torch.__version__, \"CUDA\", torch.version.cuda)\n",
    "print(\"Device:\", torch.device(\"cuda:0\"))\n",
    "print(torch.cuda.is_available())\n",
    "\n"
   ]
  },
  {
   "cell_type": "markdown",
   "metadata": {},
   "source": [
    "## Data Preparation"
   ]
  },
  {
   "cell_type": "code",
   "execution_count": 7,
   "metadata": {},
   "outputs": [],
   "source": [
    "# path = '/media/sdc1/Data/ETRI_Music/'\n",
    "# data = SingleMus(path)\n",
    "# path = '/media/sdc1/Data/ETRI_Music'\n",
    "# bs = 50\n",
    "# train_loader = torch.utils.data.DataLoader(data, batch_size = bs, shuffle \\\n",
    "#                                            = True, num_workers = 4)\n",
    "# torch.save(train_loader, 'mus_dataloader.pth')"
   ]
  },
  {
   "cell_type": "code",
   "execution_count": 3,
   "metadata": {},
   "outputs": [],
   "source": [
    "train_loader = torch.load('mus_train_dataloader.pth')"
   ]
  },
  {
   "cell_type": "code",
   "execution_count": 2,
   "metadata": {},
   "outputs": [],
   "source": [
    "model = Autoencoder().cuda()\n",
    "# print(model.code.is_leaf)\n",
    "lr = 0.0001       \n",
    "criterion = nn.MSELoss()\n",
    "optimizer = torch.optim.Adam(list(model.parameters()) + [model.code], lr=lr)\n",
    "# ,\n",
    "#                              weight_decay=1e-5)"
   ]
  },
  {
   "cell_type": "markdown",
   "metadata": {},
   "source": [
    "## Train"
   ]
  },
  {
   "cell_type": "code",
   "execution_count": 9,
   "metadata": {},
   "outputs": [
    {
     "name": "stdout",
     "output_type": "stream",
     "text": [
      "epoch_0\n",
      "loss:0.018\n",
      "2.1927540099636493\n",
      "epoch_1\n",
      "loss:0.006\n",
      "7.929855593023728\n",
      "epoch_2\n",
      "loss:0.003\n",
      "10.716008498784388\n",
      "epoch_3\n",
      "loss:0.003\n",
      "12.025760122164074\n",
      "epoch_4\n",
      "loss:0.002\n",
      "12.83340691608995\n",
      "epoch_5\n",
      "loss:0.003\n",
      "13.422787917379797\n",
      "epoch_6\n",
      "loss:0.002\n",
      "13.857657442227344\n",
      "epoch_7\n",
      "loss:0.002\n",
      "14.28942386089464\n",
      "epoch_8\n",
      "loss:0.001\n",
      "14.579789301294172\n",
      "epoch_9\n",
      "loss:0.002\n",
      "14.672942026749055\n",
      "epoch_10\n",
      "loss:0.002\n",
      "15.003560680730482\n",
      "epoch_11\n",
      "loss:0.001\n",
      "15.160499424154573\n",
      "epoch_12\n",
      "loss:0.001\n",
      "15.331202014765699\n",
      "epoch_13\n",
      "loss:0.001\n",
      "15.376262043946072\n",
      "epoch_14\n",
      "loss:0.001\n",
      "15.538053807583115\n",
      "epoch_15\n",
      "loss:0.002\n",
      "15.657746853325664\n",
      "epoch_16\n",
      "loss:0.002\n",
      "15.851388573810837\n",
      "epoch_17\n",
      "loss:0.002\n",
      "15.9413798037576\n",
      "epoch_18\n",
      "loss:0.001\n",
      "16.14185683461943\n",
      "epoch_19\n",
      "loss:0.001\n",
      "16.317714240164932\n",
      "epoch_20\n",
      "loss:0.001\n",
      "16.470982682262687\n",
      "epoch_21\n",
      "loss:0.001\n",
      "16.588339384263783\n",
      "epoch_22\n",
      "loss:0.001\n",
      "16.834892163573123\n",
      "epoch_23\n",
      "loss:0.001\n",
      "17.037524769450627\n",
      "epoch_24\n",
      "loss:0.001\n",
      "17.216615693946373\n",
      "epoch_25\n",
      "loss:0.002\n",
      "17.337689980583924\n",
      "epoch_26\n",
      "loss:0.001\n",
      "17.57657829012357\n",
      "epoch_27\n",
      "loss:0.001\n",
      "17.64585332681159\n",
      "epoch_28\n",
      "loss:0.001\n",
      "17.838743816010297\n",
      "epoch_29\n",
      "loss:0.001\n",
      "18.053382553166653\n",
      "epoch_30\n",
      "loss:0.001\n",
      "18.156708024841507\n",
      "epoch_31\n",
      "loss:0.000\n",
      "18.26455020898783\n",
      "epoch_32\n",
      "loss:0.001\n",
      "18.604098910969135\n",
      "epoch_33\n",
      "loss:0.001\n",
      "18.685135989456803\n",
      "epoch_34\n",
      "loss:0.001\n",
      "18.891893852169996\n",
      "epoch_35\n",
      "loss:0.000\n",
      "19.093583943807044\n",
      "epoch_36\n",
      "loss:0.001\n",
      "19.136584973676573\n",
      "epoch_37\n",
      "loss:0.000\n",
      "19.439671302004758\n",
      "epoch_38\n",
      "loss:0.000\n",
      "19.500218235753927\n",
      "epoch_39\n",
      "loss:0.001\n",
      "19.633167303924928\n",
      "epoch_40\n",
      "loss:0.000\n",
      "19.82953729368796\n",
      "epoch_41\n",
      "loss:0.000\n",
      "20.21191197437786\n",
      "epoch_42\n",
      "loss:0.000\n",
      "20.29824242950351\n",
      "epoch_43\n",
      "loss:0.001\n",
      "20.447162242570858\n",
      "epoch_44\n",
      "loss:0.000\n",
      "20.778391363915674\n",
      "epoch_45\n",
      "loss:0.000\n",
      "20.704371666381775\n",
      "epoch_46\n",
      "loss:0.000\n",
      "21.191523571408776\n",
      "epoch_47\n",
      "loss:0.000\n",
      "21.355179248085868\n",
      "epoch_48\n",
      "loss:0.000\n",
      "21.516544211199207\n",
      "epoch_49\n",
      "loss:0.000\n",
      "21.839579709561757\n"
     ]
    }
   ],
   "source": [
    "epochs = 50\n",
    "for t in range(epochs):\n",
    "    start = time.time()\n",
    "    model.train()\n",
    "    for data in train_loader:\n",
    "#         print(data.shape)\n",
    "        data = data.cuda()\n",
    "        outputs = model(data)\n",
    "#         print(outputs[0])\n",
    "        optimizer.zero_grad()\n",
    "        loss = criterion(outputs, data)\n",
    "#         print(loss)\n",
    "        loss.backward()\n",
    "#         print(list(model.code.grad))\n",
    "        optimizer.step()\n",
    "    \n",
    "    print('epoch_{}'.format(t))\n",
    "    end = time.time()\n",
    "    \n",
    "    print('loss:' '{:.3f}'.format(loss.data.cpu().numpy()))\n",
    "    print(test())\n",
    "#           , '{:.0f}'.format(end-start))\n",
    "#     if t == 1:\n",
    "#         break\n"
   ]
  },
  {
   "cell_type": "code",
   "execution_count": null,
   "metadata": {},
   "outputs": [],
   "source": [
    "torch.save(model.state_dict(), '0213.model')  "
   ]
  },
  {
   "cell_type": "markdown",
   "metadata": {},
   "source": [
    "## Test"
   ]
  },
  {
   "cell_type": "code",
   "execution_count": 4,
   "metadata": {},
   "outputs": [],
   "source": [
    "# path = '/media/sdc1/Data/ETRI_Music/'\n",
    "# test_data = SingleMus(path)\n",
    "# bs = 50\n",
    "# test_loader = torch.utils.data.DataLoader(test_data, batch_size = bs, shuffle \\\n",
    "#                                          = True, num_workers = 4)\n",
    "# torch.save(test_loader, 'mus_test_dataloader.pth')"
   ]
  },
  {
   "cell_type": "code",
   "execution_count": 5,
   "metadata": {},
   "outputs": [],
   "source": [
    "test_loader = torch.load('mus_test_dataloader.pth')"
   ]
  },
  {
   "cell_type": "code",
   "execution_count": 6,
   "metadata": {},
   "outputs": [],
   "source": [
    "# model = Autoencoder().cuda()\n",
    "# model.load_state_dict(torch.load('0213.model'))"
   ]
  },
  {
   "cell_type": "code",
   "execution_count": 7,
   "metadata": {},
   "outputs": [],
   "source": [
    "def SDR(s, sr): # input (50, 512), (50, 512)\n",
    "    sdrs = []\n",
    "    s = s.cpu().data.numpy()\n",
    "    sr = sr.cpu().data.numpy()\n",
    "    for i in range(len(s)):\n",
    "        eps=1e-20\n",
    "        sdrs.append(10*np.log10(np.sum(sr**2)/(np.sum((s-sr)**2)+eps)+eps))\n",
    "    return np.mean(sdrs)"
   ]
  },
  {
   "cell_type": "code",
   "execution_count": 8,
   "metadata": {},
   "outputs": [],
   "source": [
    "# model.eval()\n",
    "def test():\n",
    "    sdr_list = []\n",
    "    i = 0\n",
    "    for data in test_loader:\n",
    "#         print(data)\n",
    "        data = data.cuda()\n",
    "        outputs = model.forward(data)\n",
    "#         print(outputs)\n",
    "        sdr_list.append(SDR(data, outputs))\n",
    "    sdr_score = np.mean(sdr_list)\n",
    "    \n",
    "    return sdr_score"
   ]
  },
  {
   "cell_type": "code",
   "execution_count": 12,
   "metadata": {},
   "outputs": [],
   "source": [
    "x = np.array([[1,3]])\n",
    "y = np.array([[3],[4]])"
   ]
  },
  {
   "cell_type": "code",
   "execution_count": 16,
   "metadata": {},
   "outputs": [
    {
     "data": {
      "text/plain": [
       "array([[4, 0],\n",
       "       [9, 1]])"
      ]
     },
     "execution_count": 16,
     "metadata": {},
     "output_type": "execute_result"
    }
   ],
   "source": [
    "(x-y)**2"
   ]
  },
  {
   "cell_type": "code",
   "execution_count": 17,
   "metadata": {},
   "outputs": [],
   "source": [
    "# samples - 3; features - 2(embeddings)\n",
    "x = torch.Tensor([[1,2], [3,4], [5,6]])"
   ]
  },
  {
   "cell_type": "code",
   "execution_count": 33,
   "metadata": {},
   "outputs": [
    {
     "data": {
      "text/plain": [
       "tensor([[ 0.,  8., 32.],\n",
       "        [ 8.,  0.,  8.],\n",
       "        [32.,  8.,  0.]])"
      ]
     },
     "execution_count": 33,
     "metadata": {},
     "output_type": "execute_result"
    }
   ],
   "source": [
    "torch.sum(torch.sub(x[None,:,:],x[:, None, :])**2, dim = -1)"
   ]
  },
  {
   "cell_type": "code",
   "execution_count": 32,
   "metadata": {},
   "outputs": [
    {
     "data": {
      "text/plain": [
       "torch.Size([3, 3, 2])"
      ]
     },
     "execution_count": 32,
     "metadata": {},
     "output_type": "execute_result"
    }
   ],
   "source": [
    "torch.sub(x[None,:,:],x[:, None, :]).shape"
   ]
  },
  {
   "cell_type": "code",
   "execution_count": 31,
   "metadata": {},
   "outputs": [
    {
     "data": {
      "text/plain": [
       "tensor([[[1., 2.]],\n",
       "\n",
       "        [[3., 4.]],\n",
       "\n",
       "        [[5., 6.]]])"
      ]
     },
     "execution_count": 31,
     "metadata": {},
     "output_type": "execute_result"
    }
   ],
   "source": [
    "x[:, None, :]"
   ]
  },
  {
   "cell_type": "code",
   "execution_count": null,
   "metadata": {},
   "outputs": [],
   "source": []
  }
 ],
 "metadata": {
  "kernelspec": {
   "display_name": "Python 3",
   "language": "python",
   "name": "python3"
  },
  "language_info": {
   "codemirror_mode": {
    "name": "ipython",
    "version": 3
   },
   "file_extension": ".py",
   "mimetype": "text/x-python",
   "name": "python",
   "nbconvert_exporter": "python",
   "pygments_lexer": "ipython3",
   "version": "3.6.8"
  }
 },
 "nbformat": 4,
 "nbformat_minor": 4
}

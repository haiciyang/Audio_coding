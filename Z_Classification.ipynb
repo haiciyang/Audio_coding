{
 "cells": [
  {
   "cell_type": "code",
   "execution_count": null,
   "metadata": {},
   "outputs": [],
   "source": [
    "import os\n",
    "os.environ[\"CUDA_DEVICE_ORDER\"]=\"PCI_BUS_ID\" # see issue #152\n",
    "os.environ[\"CUDA_VISIBLE_DEVICES\"]=\"0\"\n",
    "\n",
    "# Importing the libraries \n",
    "import torch\n",
    "import torchvision\n",
    "import torchvision.transforms as transforms\n",
    "import torchvision.datasets as datasets\n",
    "import numpy as np\n",
    "import matplotlib.pyplot as plt\n",
    "import torch.nn as nn\n",
    "import matplotlib.cm as cm\n",
    "import pandas as pd\n",
    "import librosa\n",
    "import librosa.display\n",
    "import torch.nn.functional as F\n",
    "from torch.autograd import Variable\n",
    "import time\n",
    "from Models import Autoencoder\n",
    "from TestData import SingleMus\n",
    "\n",
    "# Checking the availability of CUDA on machine\n",
    "print(\"Torch\", torch.__version__, \"CUDA\", torch.version.cuda)\n",
    "print(\"Device:\", torch.device(\"cuda:0\"))\n",
    "print(torch.cuda.is_available())\n",
    "\n"
   ]
  },
  {
   "cell_type": "code",
   "execution_count": null,
   "metadata": {},
   "outputs": [],
   "source": [
    "# label_dict = {\n",
    "#     'P': 0,\n",
    "#     'R': 1,\n",
    "#     'J': 2,\n",
    "#     'G': 3,\n",
    "#     'B': 4,\n",
    "#     'C': 5,\n",
    "#     'A': 6,\n",
    "#     'H': 7,\n",
    "#     'K': 8,\n",
    "#     'E': 9,\n",
    "#     'S': 10,\n",
    "#     'T': 11,\n",
    "#     'L': 12}"
   ]
  },
  {
   "cell_type": "code",
   "execution_count": null,
   "metadata": {},
   "outputs": [],
   "source": [
    "filePath = '/media/sdc1/Data/ETRI_Music'\n",
    "muspath_list = [i for i in os.listdir(filePath) if i.endswith('.wav')]\n",
    "# label_list = [label_dict.get(i[-7]) for i in muspath_list]\n"
   ]
  },
  {
   "cell_type": "code",
   "execution_count": null,
   "metadata": {},
   "outputs": [],
   "source": [
    "# for i in range(13):\n",
    "#     count = sum(np.array(label_list)==i)\n",
    "#     print(i, count)"
   ]
  },
  {
   "cell_type": "code",
   "execution_count": null,
   "metadata": {},
   "outputs": [],
   "source": [
    "# # 1/5 test data; 4/5 training data\n",
    "# train_index = []\n",
    "# test_index = []\n",
    "# for genre in range(13):\n",
    "#     index = [i for i in range(len(label_list)) if label_list[i] == genre]\n",
    "#     perm_index = np.random.permutation(index).tolist()\n",
    "#     test_index += perm_index[:int(len(index)/4)]\n",
    "#     train_index += perm_index[int(len(index)/4):]\n",
    "\n",
    "# test_index = np.random.permutation(test_index).tolist()\n",
    "# train_index = np.random.permutation(train_index).tolist()\n",
    "\n",
    "# train_path = [muspath_list[i] for i in train_index]\n",
    "# test_path = [muspath_list[i] for i in test_index]\n",
    "# label_tr = [label_list[i] for i in train_index]\n",
    "# label_te = [label_list[i] for i in test_index]\n"
   ]
  },
  {
   "cell_type": "code",
   "execution_count": null,
   "metadata": {},
   "outputs": [],
   "source": [
    "# # dataloading\n",
    "# error_file = []\n",
    "\n",
    "# trx, tex = [], []\n",
    "# i = 0\n",
    "# for path in train_path:\n",
    "#     print(i)\n",
    "#     i+=1\n",
    "#     try:\n",
    "#         s, sr=librosa.load(filePath+'/'+path, sr=None) \n",
    "#         trx.append(list(s/np.std(s)))\n",
    "#     except:\n",
    "#         print(i, path)\n",
    "#         print(label_tr.pop(i))\n",
    "#         error_file.append(path)\n",
    "#         continue\n",
    "    \n",
    "# i = 0\n",
    "# for path in test_path:\n",
    "#     i+=1\n",
    "#     try:\n",
    "#         s, sr=librosa.load(filePath+'/'+path, sr=None) \n",
    "#         tex.append(s/np.std(s))\n",
    "#     except:\n",
    "#         print(i, path)\n",
    "#         print(label_te.pop(i))\n",
    "#         error_file.append(path)\n",
    "#         continue\n",
    "    \n",
    "# # \n"
   ]
  },
  {
   "cell_type": "code",
   "execution_count": null,
   "metadata": {},
   "outputs": [],
   "source": [
    "# maxAmp=0\n",
    "# for signal in trx:\n",
    "#     if np.max(np.abs(signal))>maxAmp:\n",
    "#         maxAmp=np.max(np.abs(signal))\n",
    "\n",
    "# maxAmp*=1.5\n",
    "\n",
    "# trx /= maxAmp\n",
    "# tex /= maxAmp\n"
   ]
  },
  {
   "cell_type": "code",
   "execution_count": null,
   "metadata": {},
   "outputs": [],
   "source": [
    "# trx_c = []\n",
    "# tex_c = []\n",
    "# for i in range(len(trx)):\n",
    "# #     print(i)\n",
    "#     trx_c.append(trx[i][:1024])\n",
    "# for i in range(len(tex)):\n",
    "# #     print(i)\n",
    "#     tex_c.append(tex[i][:1024])"
   ]
  },
  {
   "cell_type": "code",
   "execution_count": null,
   "metadata": {},
   "outputs": [],
   "source": [
    "# trx_c = np.array([np.array(_) for _ in trx_c])\n",
    "# tex_c = np.array([np.array(_) for _ in tex_c])"
   ]
  },
  {
   "cell_type": "code",
   "execution_count": null,
   "metadata": {},
   "outputs": [],
   "source": [
    "# Testing the trained model\n",
    "def testClassifier():\n",
    "    correct = 0\n",
    "    total = 0\n",
    "    save_one = 0\n",
    "    bs = 30\n",
    "    with torch.no_grad():\n",
    "        for i in range(0, len(tex_c), bs):\n",
    "            end = np.minimum(i+bs, len(tex_c))\n",
    "            data = torch.FloatTensor(np.asarray(tex_c[i:end])) \n",
    "            labels = torch.FloatTensor(np.asarray(label_te[i:end]))\n",
    "\n",
    "            outputs = model(data)\n",
    "            #print(outputs.data)\n",
    "            try:\n",
    "                maxdata, predicted = torch.max(outputs.data, 1)\n",
    "            except:\n",
    "                print(predicted)\n",
    "            total += labels.size(0)\n",
    "            try:\n",
    "                correct += (predicted == labels.long()).sum().item()\n",
    "            except:\n",
    "                print(predicted.shape)\n",
    "                print(labels.shape)\n",
    "                fake_function()\n",
    "\n",
    "    #print(correct)\n",
    "    print(\"Accuracy:\" , '{:.2f}'.format(100.0 * correct / total))\n"
   ]
  },
  {
   "cell_type": "code",
   "execution_count": null,
   "metadata": {},
   "outputs": [],
   "source": [
    "## Training classifier\n",
    "\n",
    "model = musClassifier()\n",
    "\n",
    "lr = 0.001\n",
    "optimizer= torch.optim.Adam(model.parameters(), lr)#, betas=[0.9, 0.999])\n",
    "loss_function = nn.CrossEntropyLoss()\n",
    "\n",
    "epochs = 50\n",
    "bs = 1024\n",
    "\n",
    "for t in range(epochs):\n",
    "    start = time.time()\n",
    "    for i in range(0, len(trx_c), bs):\n",
    "        end = np.minimum(i+bs, len(trx_c))\n",
    "        data = torch.FloatTensor(np.asarray(trx_c[i:end]))     \n",
    "        labels = torch.IntTensor(np.asarray(label_tr[i:end])) \n",
    "\n",
    "        optimizer.zero_grad()\n",
    "        outputs = model(data)\n",
    "#         print(outputs)\n",
    "        loss = loss_function(outputs, labels.long())\n",
    "        loss.backward()\n",
    "        optimizer.step()\n",
    "    \n",
    "    print('epoch_{}'.format(t))\n",
    "    testClassifier()\n",
    "    end = time.time()\n",
    "    print('loss:' '{:.3f}'.format(loss.data.cpu().numpy()))\n",
    "#           , '{:.0f}'.format(end-start))\n"
   ]
  },
  {
   "cell_type": "code",
   "execution_count": null,
   "metadata": {},
   "outputs": [],
   "source": []
  }
 ],
 "metadata": {
  "kernelspec": {
   "display_name": "Python 3",
   "language": "python",
   "name": "python3"
  },
  "language_info": {
   "codemirror_mode": {
    "name": "ipython",
    "version": 3
   },
   "file_extension": ".py",
   "mimetype": "text/x-python",
   "name": "python",
   "nbconvert_exporter": "python",
   "pygments_lexer": "ipython3",
   "version": "3.6.8"
  }
 },
 "nbformat": 4,
 "nbformat_minor": 4
}
